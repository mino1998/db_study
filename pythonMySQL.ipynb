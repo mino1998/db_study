{
 "cells": [
  {
   "cell_type": "code",
   "execution_count": 1,
   "id": "f391b91b",
   "metadata": {},
   "outputs": [
    {
     "name": "stdout",
     "output_type": "stream",
     "text": [
      "Requirement already satisfied: pyMySQL in c:\\users\\user\\anaconda3\\lib\\site-packages (1.1.0)\n",
      "Note: you may need to restart the kernel to use updated packages.\n"
     ]
    }
   ],
   "source": [
    "# 파이썬 MySQL 드라이버 패키지 다운로드\n",
    "pip install pyMySQL"
   ]
  },
  {
   "cell_type": "code",
   "execution_count": 14,
   "id": "a8ca15f2",
   "metadata": {},
   "outputs": [
    {
     "name": "stdout",
     "output_type": "stream",
     "text": [
      "<pymysql.connections.Connection object at 0x000001928D6D52D0>\n",
      "12\n",
      "기획\n",
      "제주\n"
     ]
    }
   ],
   "source": [
    "import pymysql\n",
    "import sys\n",
    "try:\n",
    "    #db 연결객체 생성\n",
    "    con=pymysql.connect(host='localhost',port=3306,db='mino', user='root', passwd='12alsgh12!', charset='utf8')\n",
    "    print(con)\n",
    "    #sql 실행 객체 생성\n",
    "    cursor=con.cursor()\n",
    "    #sql 실행 - 값을 직접 sql에작성\n",
    "    #cursor.execute(\"insert into DEPT values(11,'비서','서울')\")\n",
    "    #sql 실행 - sql에 서식을 설정하고, 파라미터를 대입하는 코드 작성 : 권장\n",
    "    #cursor.execute(\"insert into DEPT values(%s,%s,%s)\", (12,'기획','제주'))\n",
    "    ### 이렇게 하고 dbeaver에서 select * from DEPT 보면 데이터 안들어와있음\n",
    "    \n",
    "    # 여기의 DEPT와 DBeaver의 DEPT와는 다른 것이다. (세션이 다르다.)\n",
    "    # Commit을 해주자.\n",
    "    con.commit()\n",
    "except:\n",
    "    print(\"예외 발생!\", sys.exc_info())\n",
    "finally:\n",
    "    if con!=None:\n",
    "        con.close()"
   ]
  },
  {
   "cell_type": "code",
   "execution_count": 2,
   "id": "e36d38a4",
   "metadata": {},
   "outputs": [
    {
     "name": "stdout",
     "output_type": "stream",
     "text": [
      "12\n",
      "기획\n",
      "제주\n"
     ]
    }
   ],
   "source": [
    "import pymysql\n",
    "import sys\n",
    "try:\n",
    "    #db 연결객체 생성\n",
    "    con=pymysql.connect(host='localhost',port=3306,db='mino', user='root', passwd='12alsgh12!', charset='utf8')\n",
    "    #sql 실행 객체 생성\n",
    "    cursor=con.cursor()\n",
    "    cursor.execute(\"select * from DEPT where DEPTNO=%s\",(12))\n",
    "    #검색 결과 중 하나의 데이터를 읽어오는 것\n",
    "    record=cursor.fetchone()\n",
    "    #검색된 결과가 없다면 None, 존재하면 Tuple\n",
    "    #print(record)\n",
    "    if record==None:\n",
    "        print(\"검색된 데이터가 없음\")\n",
    "    else:\n",
    "        for attr in record:\n",
    "            print(attr)\n",
    "except:\n",
    "    print(\"예외 발생!\", sys.exc_info())\n",
    "finally:\n",
    "    if con!=None:\n",
    "        con.close()"
   ]
  },
  {
   "cell_type": "code",
   "execution_count": 5,
   "id": "ad6eb576",
   "metadata": {},
   "outputs": [
    {
     "name": "stdout",
     "output_type": "stream",
     "text": [
      "(10, 'ACCOUNTING', 'NEW YORK')\n",
      "(11, '비서', '서울')\n",
      "(12, '기획', '제주')\n",
      "(20, 'RESEARCH', 'DALLAS')\n",
      "(30, 'SALES', 'CHICAGO')\n",
      "(40, 'OPERATIONS', 'BOSTON')\n"
     ]
    }
   ],
   "source": [
    "import pymysql\n",
    "import sys\n",
    "try:\n",
    "    #db 연결객체 생성\n",
    "    con=pymysql.connect(host='localhost',port=3306,db='mino', user='root', passwd='12alsgh12!', charset='utf8')\n",
    "    #sql 실행 객체 생성\n",
    "    cursor=con.cursor()\n",
    "    cursor.execute(\"select * from DEPT where DEPTNO>%s\",(9))\n",
    "    record=cursor.fetchall()\n",
    "    #검색된 결과가 없다면 None, 존재하면 Tuple\n",
    "    #print(record)\n",
    "    if record==None:\n",
    "        print(\"검색된 데이터가 없음\")\n",
    "    else:\n",
    "        for attr in record:\n",
    "            print(attr)\n",
    "except:\n",
    "    print(\"예외 발생!\", sys.exc_info())\n",
    "finally:\n",
    "    if con!=None:\n",
    "        con.close()"
   ]
  },
  {
   "cell_type": "code",
   "execution_count": 7,
   "id": "0f3076f5",
   "metadata": {},
   "outputs": [
    {
     "name": "stdout",
     "output_type": "stream",
     "text": [
      "검색된 데이터가 없음\n"
     ]
    }
   ],
   "source": [
    "import pymysql\n",
    "import sys\n",
    "try:\n",
    "    #db 연결객체 생성\n",
    "    con=pymysql.connect(host='localhost',port=3306,db='mino', user='root', passwd='12alsgh12!', charset='utf8')\n",
    "    #sql 실행 객체 생성\n",
    "    cursor=con.cursor()\n",
    "    cursor.execute(\"select * from DEPT where DEPTNO>%s\",(100))\n",
    "    record=cursor.fetchall()\n",
    "    #fetchall을 진행했을 때, 데이터가 존재하지 않는다면\n",
    "    #None이 아닌 () 빈 튶플을 던져준다.\n",
    "    #print(record)\n",
    "    #즉 데이터가 없기에 길이가 0이면 체크를 할 수 있음\n",
    "    #if record==None을 해버리면 아무 일이 없을거야\n",
    "    if len(record)==0:\n",
    "        print(\"검색된 데이터가 없음\")\n",
    "    else:\n",
    "        for attr in record:\n",
    "            print(attr)\n",
    "except:\n",
    "    print(\"예외 발생!\", sys.exc_info())\n",
    "finally:\n",
    "    if con!=None:\n",
    "        con.close()"
   ]
  },
  {
   "cell_type": "code",
   "execution_count": 12,
   "id": "cb47f5d9",
   "metadata": {},
   "outputs": [],
   "source": [
    "import pymysql\n",
    "import sys\n",
    "try:\n",
    "    #db 연결객체 생성\n",
    "    con=pymysql.connect(host='localhost',port=3306,db='mino', user='root', passwd='12alsgh12!', charset='utf8')\n",
    "    #sql 실행 객체 생성\n",
    "    cursor=con.cursor()\n",
    "    #삽입할 이미지 파일 내용 읽기\n",
    "    f=open('galoo7.jpg','rb')\n",
    "    galoo=f.read()\n",
    "    f.close()\n",
    "    # 데이터 삽입\n",
    "    cursor.execute(\"insert into blobtable values(%s, %s)\",(\"galoo7.jpg\",galoo))\n",
    "    con.commit()\n",
    "except:\n",
    "    print(\"예외 발생!\", sys.exc_info())\n",
    "finally:\n",
    "    if con!=None:\n",
    "        con.close()"
   ]
  },
  {
   "cell_type": "code",
   "execution_count": 13,
   "id": "0f06fa50",
   "metadata": {},
   "outputs": [
    {
     "name": "stdout",
     "output_type": "stream",
     "text": [
      "galoo7.jpg\n"
     ]
    }
   ],
   "source": [
    "import pymysql\n",
    "import sys\n",
    "try:\n",
    "    #db 연결객체 생성\n",
    "    con=pymysql.connect(host='localhost',port=3306,db='mino', user='root', passwd='12alsgh12!', charset='utf8')\n",
    "    #sql 실행 객체 생성\n",
    "    cursor=con.cursor()\n",
    "    #데이터 읽어오기\n",
    "    cursor.execute(\"select * from blobtable\")\n",
    "    data=cursor.fetchone()\n",
    "    #두 번쨰 데이터가 blob 이므로 두번째 데이터를 파일로 변경\n",
    "    print(data[0])\n",
    "    f=open(data[0],'wb')\n",
    "    f.write(data[1])\n",
    "    f.close()\n",
    "    #select는 transaction이랑 상관 없어서 commit 할 필요가 없음\n",
    "    con.commit()\n",
    "except:\n",
    "    print(\"예외 발생!\", sys.exc_info())\n",
    "finally:\n",
    "    if con!=None:\n",
    "        con.close()"
   ]
  }
 ],
 "metadata": {
  "kernelspec": {
   "display_name": "Python 3 (ipykernel)",
   "language": "python",
   "name": "python3"
  },
  "language_info": {
   "codemirror_mode": {
    "name": "ipython",
    "version": 3
   },
   "file_extension": ".py",
   "mimetype": "text/x-python",
   "name": "python",
   "nbconvert_exporter": "python",
   "pygments_lexer": "ipython3",
   "version": "3.10.9"
  }
 },
 "nbformat": 4,
 "nbformat_minor": 5
}
